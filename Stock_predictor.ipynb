{
 "cells": [
  {
   "cell_type": "markdown",
   "metadata": {},
   "source": [
    "# Personalized Stock Prediction App"
   ]
  },
  {
   "cell_type": "code",
   "execution_count": 6,
   "metadata": {},
   "outputs": [
    {
     "name": "stdout",
     "output_type": "stream",
     "text": [
      "Requirement already satisfied: streamlit in c:\\users\\cwsmith\\appdata\\local\\programs\\python\\python311\\lib\\site-packages (from -r requirements.txt (line 1)) (1.41.1)\n",
      "Requirement already satisfied: yfinance in c:\\users\\cwsmith\\appdata\\local\\programs\\python\\python311\\lib\\site-packages (from -r requirements.txt (line 2)) (0.2.51)\n",
      "Requirement already satisfied: tensorflow in c:\\users\\cwsmith\\appdata\\local\\programs\\python\\python311\\lib\\site-packages (from -r requirements.txt (line 3)) (2.18.0)\n",
      "Requirement already satisfied: keras in c:\\users\\cwsmith\\appdata\\local\\programs\\python\\python311\\lib\\site-packages (from -r requirements.txt (line 4)) (3.7.0)\n",
      "Requirement already satisfied: numpy in c:\\users\\cwsmith\\appdata\\local\\programs\\python\\python311\\lib\\site-packages (from -r requirements.txt (line 5)) (1.26.4)\n",
      "Requirement already satisfied: pandas in c:\\users\\cwsmith\\appdata\\local\\programs\\python\\python311\\lib\\site-packages (from -r requirements.txt (line 6)) (2.2.2)\n",
      "Requirement already satisfied: matplotlib in c:\\users\\cwsmith\\appdata\\local\\programs\\python\\python311\\lib\\site-packages (from -r requirements.txt (line 7)) (3.10.0)\n",
      "Requirement already satisfied: scikit-learn in c:\\users\\cwsmith\\appdata\\local\\programs\\python\\python311\\lib\\site-packages (from -r requirements.txt (line 8)) (1.6.0)\n",
      "Collecting scikeras (from -r requirements.txt (line 9))\n",
      "  Downloading scikeras-0.13.0-py3-none-any.whl.metadata (3.1 kB)\n",
      "Requirement already satisfied: altair<6,>=4.0 in c:\\users\\cwsmith\\appdata\\local\\programs\\python\\python311\\lib\\site-packages (from streamlit->-r requirements.txt (line 1)) (5.5.0)\n",
      "Requirement already satisfied: blinker<2,>=1.0.0 in c:\\users\\cwsmith\\appdata\\local\\programs\\python\\python311\\lib\\site-packages (from streamlit->-r requirements.txt (line 1)) (1.9.0)\n",
      "Requirement already satisfied: cachetools<6,>=4.0 in c:\\users\\cwsmith\\appdata\\local\\programs\\python\\python311\\lib\\site-packages (from streamlit->-r requirements.txt (line 1)) (5.5.0)\n",
      "Requirement already satisfied: click<9,>=7.0 in c:\\users\\cwsmith\\appdata\\local\\programs\\python\\python311\\lib\\site-packages (from streamlit->-r requirements.txt (line 1)) (8.1.8)\n",
      "Requirement already satisfied: packaging<25,>=20 in c:\\users\\cwsmith\\appdata\\roaming\\python\\python311\\site-packages (from streamlit->-r requirements.txt (line 1)) (23.2)\n",
      "Requirement already satisfied: pillow<12,>=7.1.0 in c:\\users\\cwsmith\\appdata\\local\\programs\\python\\python311\\lib\\site-packages (from streamlit->-r requirements.txt (line 1)) (11.0.0)\n",
      "Requirement already satisfied: protobuf<6,>=3.20 in c:\\users\\cwsmith\\appdata\\local\\programs\\python\\python311\\lib\\site-packages (from streamlit->-r requirements.txt (line 1)) (5.29.2)\n",
      "Requirement already satisfied: pyarrow>=7.0 in c:\\users\\cwsmith\\appdata\\local\\programs\\python\\python311\\lib\\site-packages (from streamlit->-r requirements.txt (line 1)) (18.1.0)\n",
      "Requirement already satisfied: requests<3,>=2.27 in c:\\users\\cwsmith\\appdata\\local\\programs\\python\\python311\\lib\\site-packages (from streamlit->-r requirements.txt (line 1)) (2.32.3)\n",
      "Requirement already satisfied: rich<14,>=10.14.0 in c:\\users\\cwsmith\\appdata\\local\\programs\\python\\python311\\lib\\site-packages (from streamlit->-r requirements.txt (line 1)) (13.9.4)\n",
      "Requirement already satisfied: tenacity<10,>=8.1.0 in c:\\users\\cwsmith\\appdata\\local\\programs\\python\\python311\\lib\\site-packages (from streamlit->-r requirements.txt (line 1)) (8.2.3)\n",
      "Requirement already satisfied: toml<2,>=0.10.1 in c:\\users\\cwsmith\\appdata\\local\\programs\\python\\python311\\lib\\site-packages (from streamlit->-r requirements.txt (line 1)) (0.10.2)\n",
      "Requirement already satisfied: typing-extensions<5,>=4.3.0 in c:\\users\\cwsmith\\appdata\\local\\programs\\python\\python311\\lib\\site-packages (from streamlit->-r requirements.txt (line 1)) (4.10.0)\n",
      "Requirement already satisfied: watchdog<7,>=2.1.5 in c:\\users\\cwsmith\\appdata\\local\\programs\\python\\python311\\lib\\site-packages (from streamlit->-r requirements.txt (line 1)) (6.0.0)\n",
      "Requirement already satisfied: gitpython!=3.1.19,<4,>=3.0.7 in c:\\users\\cwsmith\\appdata\\local\\programs\\python\\python311\\lib\\site-packages (from streamlit->-r requirements.txt (line 1)) (3.1.43)\n",
      "Requirement already satisfied: pydeck<1,>=0.8.0b4 in c:\\users\\cwsmith\\appdata\\local\\programs\\python\\python311\\lib\\site-packages (from streamlit->-r requirements.txt (line 1)) (0.9.1)\n",
      "Requirement already satisfied: tornado<7,>=6.0.3 in c:\\users\\cwsmith\\appdata\\roaming\\python\\python311\\site-packages (from streamlit->-r requirements.txt (line 1)) (6.4)\n",
      "Requirement already satisfied: multitasking>=0.0.7 in c:\\users\\cwsmith\\appdata\\local\\programs\\python\\python311\\lib\\site-packages (from yfinance->-r requirements.txt (line 2)) (0.0.11)\n",
      "Requirement already satisfied: lxml>=4.9.1 in c:\\users\\cwsmith\\appdata\\local\\programs\\python\\python311\\lib\\site-packages (from yfinance->-r requirements.txt (line 2)) (5.3.0)\n",
      "Requirement already satisfied: platformdirs>=2.0.0 in c:\\users\\cwsmith\\appdata\\roaming\\python\\python311\\site-packages (from yfinance->-r requirements.txt (line 2)) (4.2.0)\n",
      "Requirement already satisfied: pytz>=2022.5 in c:\\users\\cwsmith\\appdata\\local\\programs\\python\\python311\\lib\\site-packages (from yfinance->-r requirements.txt (line 2)) (2024.1)\n",
      "Requirement already satisfied: frozendict>=2.3.4 in c:\\users\\cwsmith\\appdata\\local\\programs\\python\\python311\\lib\\site-packages (from yfinance->-r requirements.txt (line 2)) (2.4.6)\n",
      "Requirement already satisfied: peewee>=3.16.2 in c:\\users\\cwsmith\\appdata\\local\\programs\\python\\python311\\lib\\site-packages (from yfinance->-r requirements.txt (line 2)) (3.17.8)\n",
      "Requirement already satisfied: beautifulsoup4>=4.11.1 in c:\\users\\cwsmith\\appdata\\roaming\\python\\python311\\site-packages (from yfinance->-r requirements.txt (line 2)) (4.12.3)\n",
      "Requirement already satisfied: html5lib>=1.1 in c:\\users\\cwsmith\\appdata\\local\\programs\\python\\python311\\lib\\site-packages (from yfinance->-r requirements.txt (line 2)) (1.1)\n",
      "Requirement already satisfied: tensorflow-intel==2.18.0 in c:\\users\\cwsmith\\appdata\\local\\programs\\python\\python311\\lib\\site-packages (from tensorflow->-r requirements.txt (line 3)) (2.18.0)\n",
      "Requirement already satisfied: absl-py>=1.0.0 in c:\\users\\cwsmith\\appdata\\local\\programs\\python\\python311\\lib\\site-packages (from tensorflow-intel==2.18.0->tensorflow->-r requirements.txt (line 3)) (2.1.0)\n",
      "Requirement already satisfied: astunparse>=1.6.0 in c:\\users\\cwsmith\\appdata\\local\\programs\\python\\python311\\lib\\site-packages (from tensorflow-intel==2.18.0->tensorflow->-r requirements.txt (line 3)) (1.6.3)\n",
      "Requirement already satisfied: flatbuffers>=24.3.25 in c:\\users\\cwsmith\\appdata\\local\\programs\\python\\python311\\lib\\site-packages (from tensorflow-intel==2.18.0->tensorflow->-r requirements.txt (line 3)) (24.12.23)\n",
      "Requirement already satisfied: gast!=0.5.0,!=0.5.1,!=0.5.2,>=0.2.1 in c:\\users\\cwsmith\\appdata\\local\\programs\\python\\python311\\lib\\site-packages (from tensorflow-intel==2.18.0->tensorflow->-r requirements.txt (line 3)) (0.6.0)\n",
      "Requirement already satisfied: google-pasta>=0.1.1 in c:\\users\\cwsmith\\appdata\\local\\programs\\python\\python311\\lib\\site-packages (from tensorflow-intel==2.18.0->tensorflow->-r requirements.txt (line 3)) (0.2.0)\n",
      "Requirement already satisfied: libclang>=13.0.0 in c:\\users\\cwsmith\\appdata\\local\\programs\\python\\python311\\lib\\site-packages (from tensorflow-intel==2.18.0->tensorflow->-r requirements.txt (line 3)) (18.1.1)\n",
      "Requirement already satisfied: opt-einsum>=2.3.2 in c:\\users\\cwsmith\\appdata\\local\\programs\\python\\python311\\lib\\site-packages (from tensorflow-intel==2.18.0->tensorflow->-r requirements.txt (line 3)) (3.4.0)\n",
      "Requirement already satisfied: setuptools in c:\\users\\cwsmith\\appdata\\local\\programs\\python\\python311\\lib\\site-packages (from tensorflow-intel==2.18.0->tensorflow->-r requirements.txt (line 3)) (65.5.0)\n",
      "Requirement already satisfied: six>=1.12.0 in c:\\users\\cwsmith\\appdata\\roaming\\python\\python311\\site-packages (from tensorflow-intel==2.18.0->tensorflow->-r requirements.txt (line 3)) (1.16.0)\n",
      "Requirement already satisfied: termcolor>=1.1.0 in c:\\users\\cwsmith\\appdata\\local\\programs\\python\\python311\\lib\\site-packages (from tensorflow-intel==2.18.0->tensorflow->-r requirements.txt (line 3)) (2.5.0)\n",
      "Requirement already satisfied: wrapt>=1.11.0 in c:\\users\\cwsmith\\appdata\\local\\programs\\python\\python311\\lib\\site-packages (from tensorflow-intel==2.18.0->tensorflow->-r requirements.txt (line 3)) (1.17.0)\n",
      "Requirement already satisfied: grpcio<2.0,>=1.24.3 in c:\\users\\cwsmith\\appdata\\local\\programs\\python\\python311\\lib\\site-packages (from tensorflow-intel==2.18.0->tensorflow->-r requirements.txt (line 3)) (1.68.1)\n",
      "Requirement already satisfied: tensorboard<2.19,>=2.18 in c:\\users\\cwsmith\\appdata\\local\\programs\\python\\python311\\lib\\site-packages (from tensorflow-intel==2.18.0->tensorflow->-r requirements.txt (line 3)) (2.18.0)\n",
      "Requirement already satisfied: h5py>=3.11.0 in c:\\users\\cwsmith\\appdata\\local\\programs\\python\\python311\\lib\\site-packages (from tensorflow-intel==2.18.0->tensorflow->-r requirements.txt (line 3)) (3.12.1)\n",
      "Requirement already satisfied: ml-dtypes<0.5.0,>=0.4.0 in c:\\users\\cwsmith\\appdata\\local\\programs\\python\\python311\\lib\\site-packages (from tensorflow-intel==2.18.0->tensorflow->-r requirements.txt (line 3)) (0.4.1)\n",
      "Requirement already satisfied: tensorflow-io-gcs-filesystem>=0.23.1 in c:\\users\\cwsmith\\appdata\\local\\programs\\python\\python311\\lib\\site-packages (from tensorflow-intel==2.18.0->tensorflow->-r requirements.txt (line 3)) (0.31.0)\n",
      "Requirement already satisfied: namex in c:\\users\\cwsmith\\appdata\\local\\programs\\python\\python311\\lib\\site-packages (from keras->-r requirements.txt (line 4)) (0.0.8)\n",
      "Requirement already satisfied: optree in c:\\users\\cwsmith\\appdata\\local\\programs\\python\\python311\\lib\\site-packages (from keras->-r requirements.txt (line 4)) (0.13.1)\n",
      "Requirement already satisfied: python-dateutil>=2.8.2 in c:\\users\\cwsmith\\appdata\\roaming\\python\\python311\\site-packages (from pandas->-r requirements.txt (line 6)) (2.8.2)\n",
      "Requirement already satisfied: tzdata>=2022.7 in c:\\users\\cwsmith\\appdata\\local\\programs\\python\\python311\\lib\\site-packages (from pandas->-r requirements.txt (line 6)) (2024.1)\n",
      "Requirement already satisfied: contourpy>=1.0.1 in c:\\users\\cwsmith\\appdata\\local\\programs\\python\\python311\\lib\\site-packages (from matplotlib->-r requirements.txt (line 7)) (1.3.1)\n",
      "Requirement already satisfied: cycler>=0.10 in c:\\users\\cwsmith\\appdata\\local\\programs\\python\\python311\\lib\\site-packages (from matplotlib->-r requirements.txt (line 7)) (0.12.1)\n",
      "Requirement already satisfied: fonttools>=4.22.0 in c:\\users\\cwsmith\\appdata\\local\\programs\\python\\python311\\lib\\site-packages (from matplotlib->-r requirements.txt (line 7)) (4.55.3)\n",
      "Requirement already satisfied: kiwisolver>=1.3.1 in c:\\users\\cwsmith\\appdata\\local\\programs\\python\\python311\\lib\\site-packages (from matplotlib->-r requirements.txt (line 7)) (1.4.7)\n",
      "Requirement already satisfied: pyparsing>=2.3.1 in c:\\users\\cwsmith\\appdata\\local\\programs\\python\\python311\\lib\\site-packages (from matplotlib->-r requirements.txt (line 7)) (3.2.0)\n",
      "Requirement already satisfied: scipy>=1.6.0 in c:\\users\\cwsmith\\appdata\\local\\programs\\python\\python311\\lib\\site-packages (from scikit-learn->-r requirements.txt (line 8)) (1.14.1)\n",
      "Requirement already satisfied: joblib>=1.2.0 in c:\\users\\cwsmith\\appdata\\local\\programs\\python\\python311\\lib\\site-packages (from scikit-learn->-r requirements.txt (line 8)) (1.4.2)\n",
      "Requirement already satisfied: threadpoolctl>=3.1.0 in c:\\users\\cwsmith\\appdata\\local\\programs\\python\\python311\\lib\\site-packages (from scikit-learn->-r requirements.txt (line 8)) (3.5.0)\n",
      "Requirement already satisfied: jinja2 in c:\\users\\cwsmith\\appdata\\local\\programs\\python\\python311\\lib\\site-packages (from altair<6,>=4.0->streamlit->-r requirements.txt (line 1)) (3.1.5)\n",
      "Requirement already satisfied: jsonschema>=3.0 in c:\\users\\cwsmith\\appdata\\local\\programs\\python\\python311\\lib\\site-packages (from altair<6,>=4.0->streamlit->-r requirements.txt (line 1)) (4.21.1)\n",
      "Requirement already satisfied: narwhals>=1.14.2 in c:\\users\\cwsmith\\appdata\\local\\programs\\python\\python311\\lib\\site-packages (from altair<6,>=4.0->streamlit->-r requirements.txt (line 1)) (1.19.1)\n",
      "Requirement already satisfied: soupsieve>1.2 in c:\\users\\cwsmith\\appdata\\roaming\\python\\python311\\site-packages (from beautifulsoup4>=4.11.1->yfinance->-r requirements.txt (line 2)) (2.6)\n",
      "Requirement already satisfied: colorama in c:\\users\\cwsmith\\appdata\\roaming\\python\\python311\\site-packages (from click<9,>=7.0->streamlit->-r requirements.txt (line 1)) (0.4.6)\n",
      "Requirement already satisfied: gitdb<5,>=4.0.1 in c:\\users\\cwsmith\\appdata\\local\\programs\\python\\python311\\lib\\site-packages (from gitpython!=3.1.19,<4,>=3.0.7->streamlit->-r requirements.txt (line 1)) (4.0.11)\n",
      "Requirement already satisfied: webencodings in c:\\users\\cwsmith\\appdata\\roaming\\python\\python311\\site-packages (from html5lib>=1.1->yfinance->-r requirements.txt (line 2)) (0.5.1)\n",
      "Requirement already satisfied: charset-normalizer<4,>=2 in c:\\users\\cwsmith\\appdata\\local\\programs\\python\\python311\\lib\\site-packages (from requests<3,>=2.27->streamlit->-r requirements.txt (line 1)) (3.3.2)\n",
      "Requirement already satisfied: idna<4,>=2.5 in c:\\users\\cwsmith\\appdata\\local\\programs\\python\\python311\\lib\\site-packages (from requests<3,>=2.27->streamlit->-r requirements.txt (line 1)) (3.6)\n",
      "Requirement already satisfied: urllib3<3,>=1.21.1 in c:\\users\\cwsmith\\appdata\\local\\programs\\python\\python311\\lib\\site-packages (from requests<3,>=2.27->streamlit->-r requirements.txt (line 1)) (2.2.1)\n",
      "Requirement already satisfied: certifi>=2017.4.17 in c:\\users\\cwsmith\\appdata\\local\\programs\\python\\python311\\lib\\site-packages (from requests<3,>=2.27->streamlit->-r requirements.txt (line 1)) (2024.2.2)\n",
      "Requirement already satisfied: markdown-it-py>=2.2.0 in c:\\users\\cwsmith\\appdata\\local\\programs\\python\\python311\\lib\\site-packages (from rich<14,>=10.14.0->streamlit->-r requirements.txt (line 1)) (3.0.0)\n",
      "Requirement already satisfied: pygments<3.0.0,>=2.13.0 in c:\\users\\cwsmith\\appdata\\roaming\\python\\python311\\site-packages (from rich<14,>=10.14.0->streamlit->-r requirements.txt (line 1)) (2.17.2)\n",
      "Requirement already satisfied: wheel<1.0,>=0.23.0 in c:\\users\\cwsmith\\appdata\\local\\programs\\python\\python311\\lib\\site-packages (from astunparse>=1.6.0->tensorflow-intel==2.18.0->tensorflow->-r requirements.txt (line 3)) (0.45.1)\n",
      "Requirement already satisfied: smmap<6,>=3.0.1 in c:\\users\\cwsmith\\appdata\\local\\programs\\python\\python311\\lib\\site-packages (from gitdb<5,>=4.0.1->gitpython!=3.1.19,<4,>=3.0.7->streamlit->-r requirements.txt (line 1)) (5.0.1)\n",
      "Requirement already satisfied: MarkupSafe>=2.0 in c:\\users\\cwsmith\\appdata\\local\\programs\\python\\python311\\lib\\site-packages (from jinja2->altair<6,>=4.0->streamlit->-r requirements.txt (line 1)) (3.0.2)\n",
      "Requirement already satisfied: attrs>=22.2.0 in c:\\users\\cwsmith\\appdata\\local\\programs\\python\\python311\\lib\\site-packages (from jsonschema>=3.0->altair<6,>=4.0->streamlit->-r requirements.txt (line 1)) (23.2.0)\n",
      "Requirement already satisfied: jsonschema-specifications>=2023.03.6 in c:\\users\\cwsmith\\appdata\\local\\programs\\python\\python311\\lib\\site-packages (from jsonschema>=3.0->altair<6,>=4.0->streamlit->-r requirements.txt (line 1)) (2023.12.1)\n",
      "Requirement already satisfied: referencing>=0.28.4 in c:\\users\\cwsmith\\appdata\\local\\programs\\python\\python311\\lib\\site-packages (from jsonschema>=3.0->altair<6,>=4.0->streamlit->-r requirements.txt (line 1)) (0.34.0)\n",
      "Requirement already satisfied: rpds-py>=0.7.1 in c:\\users\\cwsmith\\appdata\\local\\programs\\python\\python311\\lib\\site-packages (from jsonschema>=3.0->altair<6,>=4.0->streamlit->-r requirements.txt (line 1)) (0.18.0)\n",
      "Requirement already satisfied: mdurl~=0.1 in c:\\users\\cwsmith\\appdata\\local\\programs\\python\\python311\\lib\\site-packages (from markdown-it-py>=2.2.0->rich<14,>=10.14.0->streamlit->-r requirements.txt (line 1)) (0.1.2)\n",
      "Requirement already satisfied: markdown>=2.6.8 in c:\\users\\cwsmith\\appdata\\local\\programs\\python\\python311\\lib\\site-packages (from tensorboard<2.19,>=2.18->tensorflow-intel==2.18.0->tensorflow->-r requirements.txt (line 3)) (3.7)\n",
      "Requirement already satisfied: tensorboard-data-server<0.8.0,>=0.7.0 in c:\\users\\cwsmith\\appdata\\local\\programs\\python\\python311\\lib\\site-packages (from tensorboard<2.19,>=2.18->tensorflow-intel==2.18.0->tensorflow->-r requirements.txt (line 3)) (0.7.2)\n",
      "Requirement already satisfied: werkzeug>=1.0.1 in c:\\users\\cwsmith\\appdata\\local\\programs\\python\\python311\\lib\\site-packages (from tensorboard<2.19,>=2.18->tensorflow-intel==2.18.0->tensorflow->-r requirements.txt (line 3)) (3.1.3)\n",
      "Downloading scikeras-0.13.0-py3-none-any.whl (26 kB)\n",
      "Installing collected packages: scikeras\n",
      "Successfully installed scikeras-0.13.0\n"
     ]
    }
   ],
   "source": [
    "# might need updata yfinance to the latest to scrape the data successfully\n",
    "import sys\n",
    "!{sys.executable} -m pip install -r requirements.txt"
   ]
  },
  {
   "cell_type": "code",
   "execution_count": null,
   "metadata": {},
   "outputs": [
    {
     "ename": "ModuleNotFoundError",
     "evalue": "No module named 'tensorflow.keras.wrappers'",
     "output_type": "error",
     "traceback": [
      "\u001b[1;31m---------------------------------------------------------------------------\u001b[0m",
      "\u001b[1;31mModuleNotFoundError\u001b[0m                       Traceback (most recent call last)",
      "Cell \u001b[1;32mIn[7], line 19\u001b[0m\n\u001b[0;32m     17\u001b[0m \u001b[38;5;28;01mfrom\u001b[39;00m \u001b[38;5;21;01msklearn\u001b[39;00m\u001b[38;5;21;01m.\u001b[39;00m\u001b[38;5;21;01mmetrics\u001b[39;00m \u001b[38;5;28;01mimport\u001b[39;00m mean_squared_error, r2_score\n\u001b[0;32m     18\u001b[0m \u001b[38;5;28;01mfrom\u001b[39;00m \u001b[38;5;21;01msklearn\u001b[39;00m\u001b[38;5;21;01m.\u001b[39;00m\u001b[38;5;21;01mmodel_selection\u001b[39;00m \u001b[38;5;28;01mimport\u001b[39;00m GridSearchCV\n\u001b[1;32m---> 19\u001b[0m \u001b[38;5;28;01mfrom\u001b[39;00m \u001b[38;5;21;01mtensorflow\u001b[39;00m\u001b[38;5;21;01m.\u001b[39;00m\u001b[38;5;21;01mkeras\u001b[39;00m\u001b[38;5;21;01m.\u001b[39;00m\u001b[38;5;21;01mwrappers\u001b[39;00m\u001b[38;5;21;01m.\u001b[39;00m\u001b[38;5;21;01mscikit_learn\u001b[39;00m \u001b[38;5;28;01mimport\u001b[39;00m KerasRegressor\n",
      "\u001b[1;31mModuleNotFoundError\u001b[0m: No module named 'tensorflow.keras.wrappers'"
     ]
    }
   ],
   "source": [
    "#Import relevent packages\n",
    "\n",
    "import yfinance as yf\n",
    "import numpy as np\n",
    "import pandas as pd\n",
    "import matplotlib.pyplot as plt\n",
    "import datetime as dt\n",
    "import tensorflow as tf\n",
    "import sklearn\n",
    "from tensorflow.keras.models import Sequential\n",
    "from tensorflow.keras.layers import Dense, Dropout, LSTM\n",
    "from sklearn.preprocessing import MinMaxScaler\n",
    "from sklearn.tree import DecisionTreeRegressor\n",
    "from sklearn.linear_model import LinearRegression\n",
    "from sklearn.svm import SVR\n",
    "from sklearn.model_selection import train_test_split\n",
    "from sklearn.metrics import mean_squared_error, r2_score\n",
    "from sklearn.model_selection import GridSearchCV\n",
    "from scikeras.wrappers import KerasRegressor\n"
   ]
  },
  {
   "cell_type": "markdown",
   "metadata": {},
   "source": [
    "# Getting Data through API "
   ]
  },
  {
   "cell_type": "code",
   "execution_count": null,
   "metadata": {},
   "outputs": [],
   "source": [
    "#Define the stock ticker and pull the historical data from a start date\n",
    "ticker=yf.Ticker('AAPL')\n",
    "start=dt.datetime(2011, 1, 1)\n",
    "end=dt.datetime.now()\n",
    "\n",
    "data=ticker.history(start=start, end=end, interval=\"1d\")\n",
    "print('The shape of the data is ', data.shape)\n",
    "data.tail()"
   ]
  },
  {
   "cell_type": "markdown",
   "metadata": {},
   "source": [
    "# Data Preprocess and Visualization"
   ]
  },
  {
   "cell_type": "code",
   "execution_count": null,
   "metadata": {},
   "outputs": [],
   "source": [
    "#Select the daily closing price and normalize the data to (0,1)\n",
    "\n",
    "data_close=data.Close.values.reshape(-1,1)\n",
    "scaler=MinMaxScaler(feature_range=(0,1))\n",
    "scaled_data=scaler.fit_transform(data_close)\n",
    "scaled_data"
   ]
  },
  {
   "cell_type": "code",
   "execution_count": null,
   "metadata": {},
   "outputs": [],
   "source": [
    "#Visualize the historical data\n",
    "\n",
    "plt.figure(figsize=(16, 8))\n",
    "plt.title('History Price of Apple')\n",
    "plt.plot(data.Close)\n",
    "plt.xlabel('Date')\n",
    "plt.ylabel('Price $')\n",
    "plt.show()"
   ]
  },
  {
   "cell_type": "markdown",
   "metadata": {},
   "source": [
    "# Prepare Data for Different Training Models"
   ]
  },
  {
   "cell_type": "code",
   "execution_count": 26,
   "metadata": {},
   "outputs": [],
   "source": [
    "\n",
    "def train_test_split_lstm(data, prediction_days, train_size=0.9):\n",
    "    \n",
    "    '''Split train and test data for RNN model\n",
    "    \n",
    "    Split train and test data according to the ratio in time order\n",
    "    \n",
    "    Args:\n",
    "        data is the preprocessed historical data\n",
    "        prediction_days is the number of historical data to use as input\n",
    "        train_size is the ratio of training set\n",
    "        \n",
    "    Returns:\n",
    "        input and label for training set and test set\n",
    "        \n",
    "    '''\n",
    "    \n",
    "    n_train=int(len(data)*train_size)\n",
    "    x_train, y_train, x_test, y_test=[], [], [], []\n",
    "    \n",
    "    for i in range(prediction_days, n_train):\n",
    "        x_train.append(data[i-prediction_days:i, 0])\n",
    "        y_train.append(data[i, 0])\n",
    "    \n",
    "    for j in range(n_train, len(data)):\n",
    "        x_test.append(data[j-prediction_days:j, 0])\n",
    "        y_test.append(data[j, 0])\n",
    "    \n",
    "    x_train, y_train=np.array(x_train), np.array(y_train)\n",
    "    x_test, y_test=np.array(x_test), np.array(y_test)\n",
    "    x_train=np.reshape(x_train, (x_train.shape[0], x_train.shape[1], 1))\n",
    "    x_test=np.reshape(x_test, (x_test.shape[0], x_test.shape[1], 1))\n",
    "    \n",
    "    return x_train, y_train, x_test, y_test\n",
    "    "
   ]
  },
  {
   "cell_type": "code",
   "execution_count": null,
   "metadata": {},
   "outputs": [],
   "source": [
    "# Train test split for RNN model\n",
    "\n",
    "prediction_days=60 # number of days used as input\n",
    "\n",
    "x_train, y_train, x_test, y_test=train_test_split_lstm(scaled_data, prediction_days)\n",
    "\n",
    "print('x_train has {} samples, x_test has {} samples'.format(x_train.shape[0], x_test.shape[0]))"
   ]
  },
  {
   "cell_type": "code",
   "execution_count": 28,
   "metadata": {},
   "outputs": [],
   "source": [
    "# Train test split for regression model\n",
    "\n",
    "# number of historical data as input\n",
    "num_days=252\n",
    "# predict the stock price of future days\n",
    "future_days=1\n",
    "# get historical data\n",
    "data_reg=data_close[-num_days:]\n",
    "X=data_reg[:-future_days]\n",
    "y=data_reg[future_days:]\n",
    "\n",
    "# train test split and future data, set shuffle to false\n",
    "x_train1, x_test1, y_train1, y_test1=train_test_split(X, y, test_size=0.2, shuffle=False)\n",
    "x_future=X[-future_days:]"
   ]
  },
  {
   "cell_type": "markdown",
   "metadata": {},
   "source": [
    "# Regression Model\n",
    "\n",
    "Build regression model using the data from the previous year from now. "
   ]
  },
  {
   "cell_type": "code",
   "execution_count": null,
   "metadata": {},
   "outputs": [],
   "source": [
    "# DecisionTree, LinearRegression, SVM model\n",
    "dt=DecisionTreeRegressor().fit(x_train1, y_train1)\n",
    "lr=LinearRegression().fit(x_train1, y_train1)\n",
    "svm=SVR(kernel='poly').fit(x_train1, y_train1.ravel())\n",
    "\n",
    "# evaluate the performance of the model on training set\n",
    "print('For training set: ')\n",
    "print('Linear      : mean square error is {}, r2_score is {}'.format(mean_squared_error(y_train1, lr.predict(x_train1)),\\\n",
    "                                                                     r2_score(y_train1, lr.predict(x_train1))))\n",
    "print('DecisionTree: mean square error is {}, r2_score is {}'.format(mean_squared_error(y_train1, dt.predict(x_train1)),\\\n",
    "                                                                     r2_score(y_train1, dt.predict(x_train1))))\n",
    "print('SVM         : mean square error is {}, r2_score is {}'.format(mean_squared_error(y_train1, svm.predict(x_train1)),\\\n",
    "                                                                     r2_score(y_train1, svm.predict(x_train1))))\n",
    "\n",
    "# make predictions on the testset\n",
    "dt_pred=dt.predict(x_test1)\n",
    "lr_pred=lr.predict(x_test1)\n",
    "svm_pred=svm.predict(x_test1)\n",
    "\n",
    "# evaluate the performance of the model on test set\n",
    "print('For test set: ')\n",
    "print('Linear      : mean square error is {}, r2_score is {}'.format(mean_squared_error(y_test1, lr_pred),\\\n",
    "                                                                     r2_score(y_test1, lr_pred)))\n",
    "print('DecisionTree: mean square error is {}, r2_score is {}'.format(mean_squared_error(y_test1, dt_pred),\\\n",
    "                                                                     r2_score(y_test1, dt_pred)))\n",
    "print('SVM         : mean square error is {}, r2_score is {}'.format(mean_squared_error(y_test1, svm_pred),\\\n",
    "                                                                     r2_score(y_test1, svm_pred)))\n"
   ]
  },
  {
   "cell_type": "markdown",
   "metadata": {},
   "source": [
    "**Display the test prediction (recent stock price)**"
   ]
  },
  {
   "cell_type": "code",
   "execution_count": null,
   "metadata": {},
   "outputs": [],
   "source": [
    "data_future=data[-len(x_test1):]\n",
    "data_future['dt prediction']=dt_pred\n",
    "data_future['lr prediction']=lr_pred\n",
    "data_future['svm prediction']=svm_pred\n",
    "data_future=data_future[['Close', 'dt prediction', 'lr prediction', 'svm prediction']]\n",
    "data_future.tail()"
   ]
  },
  {
   "cell_type": "code",
   "execution_count": null,
   "metadata": {},
   "outputs": [],
   "source": [
    "plt.figure(figsize=(16, 12))\n",
    "plt.subplot(2, 1, 1)\n",
    "plt.title('Regression Model')\n",
    "plt.plot(data.Close[-num_days:])\n",
    "plt.plot(data_future['dt prediction'])\n",
    "plt.plot(data_future['lr prediction'])\n",
    "plt.plot(data_future['svm prediction'])\n",
    "plt.xlabel('Date')\n",
    "plt.ylabel('Closing Price $')\n",
    "plt.legend(['Actual Price', 'DecisionTree Prediction', 'Linear Prediction', 'SVM Prediction'])\n",
    "\n",
    "plt.subplot(2, 1, 2)\n",
    "plt.title('Recent 2 months')\n",
    "plt.plot(data.Close[-len(y_test1):])\n",
    "plt.plot(data_future['dt prediction'])\n",
    "plt.plot(data_future['lr prediction'])\n",
    "plt.plot(data_future['svm prediction'])\n",
    "plt.xlabel('Date')\n",
    "plt.ylabel('Closing Price $')\n",
    "plt.legend(['Actual Price', 'DecisionTree Prediction', 'Linear Prediction', 'SVM Prediction'])\n",
    "plt.show()"
   ]
  },
  {
   "cell_type": "markdown",
   "metadata": {},
   "source": [
    "### Gridsearch to optimize parameters"
   ]
  },
  {
   "cell_type": "code",
   "execution_count": null,
   "metadata": {},
   "outputs": [],
   "source": [
    "# Optimize parameters for DecisionTree Regression\n",
    "\n",
    "model=DecisionTreeRegressor()\n",
    "parameters={'max_depth': (None, 2, 3, 5, 8), #8\n",
    "            'criterion': ('mse', 'mae'),     #mse\n",
    "            'splitter': ('best', 'random')   #random\n",
    "           }\n",
    "\n",
    "cv_dt=GridSearchCV(model, param_grid=parameters,verbose=3)\n",
    "cv_dt.fit(x_train1, y_train1)\n",
    "cv_dt_pred=cv_dt.predict(x_test1)\n",
    "\n",
    "print('The best parameter set: ', cv_dt.best_params_)\n",
    "print('Trainset: mean square error is {}, r2_score is {}'.format(mean_squared_error(y_train1, cv_dt.predict(x_train1)),\\\n",
    "                                                                     r2_score(y_train1, cv_dt.predict(x_train1))))\n",
    "print('Testset: mean square error is {}, r2_score is {}'.format(mean_squared_error(y_test1, cv_dt_pred),\\\n",
    "                                                                     r2_score(y_test1, cv_dt_pred)))"
   ]
  },
  {
   "cell_type": "code",
   "execution_count": null,
   "metadata": {},
   "outputs": [],
   "source": [
    "# Optimize parameters for SVM Regression\n",
    "model=SVR()\n",
    "print(model.get_params())\n",
    "parameters={'kernel': ('poly', 'rbf', 'sigmoid'),       #poly\n",
    "            'C': (0.0001, 0.001, 0.01, 0.1, 1.0)        #C=1.0 \n",
    "           }\n",
    "\n",
    "cv_svm=GridSearchCV(model, param_grid=parameters, verbose=3)\n",
    "cv_svm.fit(x_train1, y_train1.ravel())\n",
    "cv_svm_pred=cv_svm.predict(x_test1)\n",
    "\n",
    "print('The best parameter set: ', cv_svm.best_params_)\n",
    "print('Trainset: mean square error is {}, r2_score is {}'.format(mean_squared_error(y_train1, cv_svm.predict(x_train1)),\\\n",
    "                                                                     r2_score(y_train1, cv_svm.predict(x_train1))))\n",
    "print('Testset: mean square error is {}, r2_score is {}'.format(mean_squared_error(y_test1, cv_svm_pred),\\\n",
    "                                                                     r2_score(y_test1, cv_svm_pred)))"
   ]
  },
  {
   "cell_type": "markdown",
   "metadata": {},
   "source": [
    "### Final prediction for the next day stock price"
   ]
  },
  {
   "cell_type": "code",
   "execution_count": null,
   "metadata": {},
   "outputs": [],
   "source": [
    "# Forecast the stock price for the next day\n",
    "\n",
    "x_next_day=data_reg[-future_days].reshape(-1,1)\n",
    "lr_next_day=lr.predict(x_next_day)\n",
    "dt_next_day=cv_dt.predict(x_next_day)\n",
    "svm_next_day=cv_svm.predict(x_next_day)\n",
    "print('Next day prediction by Linear model is ', lr_next_day)\n",
    "print('Next day prediction by DecisionTree model is ', dt_next_day)\n",
    "print('Next day prediction by SVM model is', svm_next_day)\n"
   ]
  },
  {
   "cell_type": "markdown",
   "metadata": {},
   "source": [
    "### Final model assessment"
   ]
  },
  {
   "cell_type": "code",
   "execution_count": null,
   "metadata": {},
   "outputs": [],
   "source": [
    "lr_rmse=np.sqrt(mean_squared_error(y_test1, lr_pred))\n",
    "dt_rmse=np.sqrt(mean_squared_error(y_test1, cv_dt_pred))\n",
    "svm_rmse=np.sqrt(mean_squared_error(y_test1, cv_svm_pred))\n",
    "average_price=np.mean(y_test1)\n",
    "lr_percent=np.round(lr_rmse/average_price*100.0, 2)\n",
    "dt_percent=np.round(dt_rmse/average_price*100.0, 2)\n",
    "svm_percent=np.round(svm_rmse/average_price*100.0, 2)\n",
    "print('Predicted value is within {}% of the actual value on average for Linear Regression.'.format(lr_percent))\n",
    "print('Predicted value is within {}% of the actual value on average for DecisionTree Regression.'.format(dt_percent))\n",
    "print('Predicted value is within {}% of the actual value on average for SVM Regression.'.format(svm_percent))"
   ]
  },
  {
   "cell_type": "markdown",
   "metadata": {},
   "source": [
    "# RNN model"
   ]
  },
  {
   "cell_type": "code",
   "execution_count": 36,
   "metadata": {},
   "outputs": [],
   "source": [
    "# LSTM model parameters\n",
    "\n",
    "lstm_size=64\n",
    "input_size=(x_train.shape[1], x_train.shape[2])\n",
    "dropout=0.2\n",
    "dense_size=10"
   ]
  },
  {
   "cell_type": "code",
   "execution_count": null,
   "metadata": {},
   "outputs": [],
   "source": [
    "# build LSTM model and train the model for 20 epochs\n",
    "\n",
    "def create_model(lstm_size=64, dropout=0.2, dense_size=10):\n",
    "    \n",
    "    model=Sequential()\n",
    "    model.add(LSTM(units=lstm_size, return_sequences=True, input_shape=input_size))\n",
    "    model.add(Dropout(dropout))\n",
    "    model.add(LSTM(units=lstm_size, return_sequences=False))\n",
    "    model.add(Dropout(dropout))\n",
    "    model.add(Dense(units=dense_size))\n",
    "    model.add(Dense(units=1))\n",
    "    \n",
    "    model.compile(optimizer='adam', loss='mean_squared_error')\n",
    "    \n",
    "    return model\n",
    "\n",
    "model=create_model(lstm_size, dropout, dense_size)\n",
    "model.summary()\n",
    "model.fit(x_train, y_train, epochs=20, batch_size=64, validation_data=(x_test, y_test))"
   ]
  },
  {
   "cell_type": "code",
   "execution_count": null,
   "metadata": {},
   "outputs": [],
   "source": [
    "y_pred=model.predict(x_test)\n",
    "\n",
    "y_fit=model.predict(x_train)\n",
    "y_fit_price=scaler.inverse_transform(y_fit)\n",
    "y_train_price=scaler.inverse_transform(y_train.reshape(-1,1))\n",
    "y_test_price=scaler.inverse_transform(y_test.reshape(-1,1))\n",
    "y_pred_price=scaler.inverse_transform(y_pred)\n",
    "\n",
    "print('For training set: ')\n",
    "print('mean square error is {}, r2_score is {}'.format(mean_squared_error(y_train_price, y_fit_price),\\\n",
    "                                                       r2_score(y_train_price, y_fit_price)))\n",
    "print('For test set: ')\n",
    "print('mean square error is {}, r2_score is {}'.format(mean_squared_error(y_test_price, y_pred_price),\\\n",
    "                                                       r2_score(y_test_price, y_pred_price)))\n"
   ]
  },
  {
   "cell_type": "code",
   "execution_count": null,
   "metadata": {},
   "outputs": [],
   "source": [
    "# final assessment\n",
    "lstm_rmse=np.sqrt(mean_squared_error(y_test_price, y_pred_price))\n",
    "average_price=np.mean(y_test_price)\n",
    "lstm_percent=np.round(lstm_rmse/average_price*100.0, 2)\n",
    "\n",
    "print('Predicted value is within {}% of the actual value on average for LSTM.'.format(lstm_percent))\n"
   ]
  },
  {
   "cell_type": "markdown",
   "metadata": {},
   "source": [
    "#### This Cell below takes long time to run. Try reduce the number of variables in the parameters dict"
   ]
  },
  {
   "cell_type": "code",
   "execution_count": null,
   "metadata": {},
   "outputs": [],
   "source": [
    "# Optimize parameters for LSTM model\n",
    "lstm=KerasRegressor(build_fn=create_model, epochs=20, batch_size=64, verbose=0)\n",
    "parameters = {'lstm_size': ([20, 32, 64]) , #64 (20, 32, 64)\n",
    "              'dropout': ([0.2, 0.3, 0.5]), #0.2 (0.2, 0.3, 0.5)\n",
    "              'dense_size': (50, 20, 10)} #10\n",
    "\n",
    "cv_lstm=GridSearchCV(lstm, parameters, verbose=3)\n",
    "cv_lstm.fit(x_train, y_train)\n",
    "cv_lstm_pred=cv_lstm.predict(x_test).reshape(-1,1)\n",
    "\n",
    "y_pred_price=scaler.inverse_transform(cv_lstm_pred)\n",
    "\n",
    "y_fit=cv_lstm.predict(x_train).reshape(-1,1)\n",
    "y_fit_price=scaler.inverse_transform(y_fit)\n",
    "y_train_price=scaler.inverse_transform(y_train.reshape(-1,1))\n",
    "y_test_price=scaler.inverse_transform(y_test.reshape(-1,1))\n",
    "\n",
    "\n",
    "print('The best parameter set: ', cv_lstm.best_params_)\n",
    "print('For training set: ')\n",
    "print('mean square error is {}, r2_score is {}'.format(mean_squared_error(y_train_price, y_fit_price),\\\n",
    "                                                       r2_score(y_train_price, y_fit_price)))\n",
    "print('For test set: ')\n",
    "print('mean square error is {}, r2_score is {}'.format(mean_squared_error(y_test_price, y_pred_price),\\\n",
    "                                                       r2_score(y_test_price, y_pred_price)))\n",
    "\n"
   ]
  },
  {
   "cell_type": "markdown",
   "metadata": {},
   "source": [
    "**LSTM performance**"
   ]
  },
  {
   "cell_type": "code",
   "execution_count": null,
   "metadata": {},
   "outputs": [],
   "source": [
    "# Visualize predicted price and actual price\n",
    "n_train=x_train.shape[0]+prediction_days\n",
    "train=data.iloc[:n_train, :]\n",
    "valid=data.iloc[n_train:, :]\n",
    "valid['Prediction']=y_pred_price\n",
    "\n",
    "plt.figure(figsize=(16, 12))\n",
    "plt.subplot(2,1,1)\n",
    "plt.title('LSTM model for Apple stock Prediction')\n",
    "plt.plot(train['Close'], color='blue')\n",
    "plt.plot(valid[['Close', 'Prediction']])\n",
    "plt.xlabel('Date')\n",
    "plt.ylabel('Closing Price $')\n",
    "plt.legend(['Train', 'Val', 'Prediction'])\n",
    "\n",
    "plt.subplot(2,1,2)\n",
    "plt.title('Recent Stock Validation')\n",
    "plt.plot(valid[['Close', 'Prediction']])\n",
    "plt.xlabel('Date')\n",
    "plt.ylabel('Closing Price $')\n",
    "plt.legend([ 'Val', 'Prediction'])\n",
    "plt.show()"
   ]
  },
  {
   "cell_type": "markdown",
   "metadata": {},
   "source": [
    "**Plot recent stock prediction and compare with actual price**"
   ]
  },
  {
   "cell_type": "code",
   "execution_count": null,
   "metadata": {},
   "outputs": [],
   "source": [
    "# Compare all models on the test set\n",
    "plt.figure(figsize=(16, 12))\n",
    "\n",
    "plt.subplot(2,2,1)\n",
    "plt.title('Apple Stock Predicted by Linear Regression')\n",
    "plt.plot(data.Close[-len(y_test1):])\n",
    "plt.plot(data_future['lr prediction'])\n",
    "plt.xlabel('Date')\n",
    "plt.ylabel('Closing Price $')\n",
    "plt.legend(['Actual Price', 'Linear Prediction'])\n",
    "\n",
    "plt.subplot(2,2,2)\n",
    "plt.title('Apple Stock Predicted by DecisionTree')\n",
    "plt.plot(data.Close[-len(y_test1):])\n",
    "plt.plot(data_future['dt prediction'])\n",
    "plt.xlabel('Date')\n",
    "plt.ylabel('Closing Price $')\n",
    "plt.legend(['Actual Price', 'DecisionTree Prediction'])\n",
    "\n",
    "plt.subplot(2,2,3)\n",
    "plt.title('Apple Stock Predicted by SVM')\n",
    "plt.plot(data.Close[-len(y_test1):])\n",
    "plt.plot(data_future['svm prediction'])\n",
    "plt.xlabel('Date')\n",
    "plt.ylabel('Closing Price $')\n",
    "plt.legend(['Actual Price', 'SVM Prediction'])\n",
    "\n",
    "plt.subplot(2,2,4)\n",
    "plt.plot(data.Close[-len(y_test1):])\n",
    "plt.plot(valid['Prediction'][-len(y_test1):])\n",
    "plt.xlabel('Date')\n",
    "plt.ylabel('Closing Price $')\n",
    "plt.legend(['Actual Price', 'LSTM Prediction'])\n",
    "\n",
    "plt.show()\n"
   ]
  },
  {
   "cell_type": "markdown",
   "metadata": {},
   "source": [
    "**LSTM next day prediction**"
   ]
  },
  {
   "cell_type": "code",
   "execution_count": 42,
   "metadata": {},
   "outputs": [],
   "source": [
    "next_day=[scaled_data[len(scaled_data)-prediction_days:,0]]\n",
    "next_day=np.array(next_day)\n",
    "next_day=np.reshape(next_day, (next_day.shape[0], next_day.shape[1], 1))"
   ]
  },
  {
   "cell_type": "code",
   "execution_count": null,
   "metadata": {},
   "outputs": [],
   "source": [
    "pred_next_day=model.predict(next_day)\n",
    "pred_next_day=scaler.inverse_transform(pred_next_day)\n",
    "print('The prediction for next day is ', pred_next_day[0][0])"
   ]
  },
  {
   "cell_type": "markdown",
   "metadata": {},
   "source": [
    "# Time series cross validation for LSTM"
   ]
  },
  {
   "cell_type": "code",
   "execution_count": 60,
   "metadata": {},
   "outputs": [],
   "source": [
    "# split data for cross validation\n",
    "\n",
    "def rolling_forecast(x_train, y_train, min_train_size=1500, horizon=200):\n",
    "    '''\n",
    "    Create k-fold cross validation\n",
    "    \n",
    "    Args:\n",
    "        x_train (numpy array): training data input\n",
    "        y_train (numpy array): training data output\n",
    "        min_train_size (int): min training data size\n",
    "        horizon (int)：validation size of future data\n",
    "    \n",
    "    Returns:\n",
    "        yield a data generator\n",
    "    '''\n",
    "    for i in range(0, train.shape[0]-min_train_size-horizon, horizon):\n",
    "        split_x_train, split_y_train=x_train[:min_train_size+i, :, :], y_train[:min_train_size+i]\n",
    "        split_x_val, split_y_val=x_train[min_train_size+i:min_train_size+i+horizon , :, :], \\\n",
    "                                 y_train[min_train_size+i:min_train_size+i+horizon]\n",
    "        yield split_x_train, split_y_train, split_x_val, split_y_val"
   ]
  },
  {
   "cell_type": "code",
   "execution_count": null,
   "metadata": {},
   "outputs": [],
   "source": [
    "# cross validation\n",
    "\n",
    "cv=rolling_forecast(x_train, y_train)\n",
    "model_cv=create_model(lstm_size, dropout, dense_size)\n",
    "cv_mse, cv_percentage=[], []\n",
    "\n",
    "for cv_x_train, cv_y_train, cv_x_val, cv_y_val in cv:\n",
    "    model_cv.fit(cv_x_train, cv_y_train, epochs=20, batch_size=64, verbose=0)\n",
    "    preds=model_cv.predict(cv_x_val)\n",
    "    \n",
    "    y_val_price=scaler.inverse_transform(cv_y_val.reshape(-1,1))\n",
    "    y_pred_price=scaler.inverse_transform(preds.reshape(-1,1))\n",
    "    \n",
    "    mse=mean_squared_error(y_val_price, y_pred_price)\n",
    "    percentage=np.sqrt(mse)/np.mean(y_val_price)*100.0\n",
    "    print('mse is {}, prediction within {}%'.format(mse, percentage))\n",
    "    \n",
    "    cv_mse.append(mse)\n",
    "    cv_percentage.append(percentage)\n"
   ]
  },
  {
   "cell_type": "code",
   "execution_count": null,
   "metadata": {},
   "outputs": [],
   "source": []
  }
 ],
 "metadata": {
  "kernelspec": {
   "display_name": "Python 3",
   "language": "python",
   "name": "python3"
  },
  "language_info": {
   "codemirror_mode": {
    "name": "ipython",
    "version": 3
   },
   "file_extension": ".py",
   "mimetype": "text/x-python",
   "name": "python",
   "nbconvert_exporter": "python",
   "pygments_lexer": "ipython3",
   "version": "3.11.3"
  }
 },
 "nbformat": 4,
 "nbformat_minor": 4
}
